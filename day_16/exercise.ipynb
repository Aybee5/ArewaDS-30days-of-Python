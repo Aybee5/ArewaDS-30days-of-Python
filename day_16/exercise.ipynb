{
 "cells": [
  {
   "cell_type": "markdown",
   "metadata": {},
   "source": [
    "## Exercises\n"
   ]
  },
  {
   "cell_type": "code",
   "execution_count": 19,
   "metadata": {},
   "outputs": [
    {
     "name": "stdout",
     "output_type": "stream",
     "text": [
      "Today is: 2023-12-29 00:11:30.643136\n",
      "Day: 29\n",
      "Month: 12\n",
      "Year: 2023\n",
      "Hour: 0\n",
      "Minute: 11\n",
      "timestamp: 1703805090.643136\n",
      "today is: 12/29/2023, 00:11:30\n",
      "custom date: 2019-12-05 00:00:00\n",
      "Time to New year: 2 days, 0:00:00\n",
      "time from 1 January 1970: 19720 days, 0:11:30.643136\n"
     ]
    }
   ],
   "source": [
    "from datetime import datetime, timedelta\n",
    "\n",
    "today = datetime.now()\n",
    "# exercise 1\n",
    "print(f\"Today is: {str(today)}\")\n",
    "print(f'Day: {today.day}')\n",
    "print(f'Month: {today.month}')\n",
    "print(f'Year: {today.year}')\n",
    "print(f'Hour: {today.hour}')\n",
    "print(f'Minute: {today.minute}')\n",
    "print(f'timestamp: {today.timestamp()}')\n",
    "\n",
    "# Exercise 2\n",
    "print(f'today is: {today.strftime(\"%m/%d/%Y, %H:%M:%S\")}')\n",
    "\n",
    "# Exercise 3\n",
    "custom_date = \"5 December, 2019\"\n",
    "print(f'custom date: {datetime.strptime(custom_date, \"%d %B, %Y\")}')\n",
    "\n",
    "# Exercise 4\n",
    "print(f'Time to New year: {timedelta(365) - timedelta(today.timetuple().tm_yday)}')\n",
    "\n",
    "# Exercise 5\n",
    "print(f'time from 1 January 1970: {today - datetime(1970, 1, 1)}')"
   ]
  }
 ],
 "metadata": {
  "kernelspec": {
   "display_name": "Python 3",
   "language": "python",
   "name": "python3"
  },
  "language_info": {
   "codemirror_mode": {
    "name": "ipython",
    "version": 3
   },
   "file_extension": ".py",
   "mimetype": "text/x-python",
   "name": "python",
   "nbconvert_exporter": "python",
   "pygments_lexer": "ipython3",
   "version": "3.11.6"
  }
 },
 "nbformat": 4,
 "nbformat_minor": 2
}
