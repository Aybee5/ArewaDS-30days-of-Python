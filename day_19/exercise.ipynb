{
 "cells": [
  {
   "cell_type": "code",
   "execution_count": 7,
   "metadata": {},
   "outputs": [
    {
     "name": "stdout",
     "output_type": "stream",
     "text": [
      "The number of lines and words in the ../files/obama_speech.txt are 66 and 2377\n",
      "The number of lines and words in the ../files/donald_speech.txt are 48 and 1245\n",
      "The number of lines and words in the ../files/michelle_obama_speech.txt are 83 and 2161\n",
      "The number of lines and words in the ../files/melina_trump_speech.txt are 33 and 1366\n"
     ]
    }
   ],
   "source": [
    "import re\n",
    "def count_number_lines(file):\n",
    "    with open(file) as f:\n",
    "       lines = f.readlines()\n",
    "\n",
    "       words = []\n",
    "\n",
    "       for line in lines:\n",
    "           line = re.sub(r'[^\\w\\s]','',line)\n",
    "           words.extend(line.split())\n",
    "\n",
    "    print(f'The number of lines and words in the {file} are {len(lines)} and {len(words)}')\n",
    "\n",
    "count_number_lines('../files/obama_speech.txt')\n",
    "count_number_lines('../files/donald_speech.txt')\n",
    "count_number_lines('../files/michelle_obama_speech.txt')\n",
    "count_number_lines('../files/melina_trump_speech.txt')"
   ]
  },
  {
   "cell_type": "code",
   "execution_count": null,
   "metadata": {},
   "outputs": [],
   "source": [
    "# with open('../files/email_exchanges.txt') as f:"
   ]
  }
 ],
 "metadata": {
  "kernelspec": {
   "display_name": "Python 3",
   "language": "python",
   "name": "python3"
  },
  "language_info": {
   "codemirror_mode": {
    "name": "ipython",
    "version": 3
   },
   "file_extension": ".py",
   "mimetype": "text/x-python",
   "name": "python",
   "nbconvert_exporter": "python",
   "pygments_lexer": "ipython3",
   "version": "3.11.6"
  }
 },
 "nbformat": 4,
 "nbformat_minor": 2
}
