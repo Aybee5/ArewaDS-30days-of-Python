{
 "cells": [
  {
   "cell_type": "markdown",
   "metadata": {},
   "source": [
    "# Exercise 1"
   ]
  },
  {
   "cell_type": "code",
   "execution_count": 16,
   "metadata": {},
   "outputs": [
    {
     "name": "stdout",
     "output_type": "stream",
     "text": [
      "['I', 'love', 'teaching', 'If', 'you', 'do', 'not', 'love', 'teaching', 'what', 'else', 'can', 'you', 'love', 'I', 'love', 'Python', 'if', 'you', 'do', 'not', 'love', 'something', 'which', 'can', 'give', 'you', 'all', 'the', 'capabilities', 'to', 'develop', 'an', 'application', 'what', 'else', 'can', 'you', 'love']\n",
      "[(6, 'love'), (5, 'you'), (3, 'can'), (2, 'I'), (2, 'else'), (2, 'teaching'), (2, 'not'), (2, 'what'), (2, 'do'), (1, 'all'), (1, 'capabilities'), (1, 'if'), (1, 'application'), (1, 'Python'), (1, 'to'), (1, 'which'), (1, 'give'), (1, 'develop'), (1, 'an'), (1, 'the'), (1, 'If'), (1, 'something')]\n"
     ]
    }
   ],
   "source": [
    "import re\n",
    "paragraph = 'I love teaching. If you do not love teaching what else can you love. I love Python if you do not love something which can give you all the capabilities to develop an application what else can you love.'\n",
    "\n",
    "splitted = re.findall(r'\\w+', paragraph)\n",
    "# word_freq = [(word, splitted.count(word)) for word in set(splitted)].sort(key=lambda x: x[1], reverse=True)\n",
    "word_freq = sorted([(splitted.count(word), word) for word in set(splitted)], key=lambda x: x[0], reverse=True)\n",
    "print(splitted)\n",
    "print(word_freq)"
   ]
  },
  {
   "cell_type": "markdown",
   "metadata": {},
   "source": [
    "# Exercise 2"
   ]
  },
  {
   "cell_type": "code",
   "execution_count": 25,
   "metadata": {},
   "outputs": [
    {
     "name": "stdout",
     "output_type": "stream",
     "text": [
      "True\n",
      "False\n",
      "False\n",
      "True\n"
     ]
    }
   ],
   "source": [
    "def is_valid_variable(name):\n",
    "    return re.match(r'^[a-zA-Z_][a-zA-Z0-9_]*$', name) is not None\n",
    "\n",
    "print(is_valid_variable('first_name'))\n",
    "print(is_valid_variable('first-name'))\n",
    "print(is_valid_variable('1first_name'))\n",
    "print(is_valid_variable('firstname'))"
   ]
  },
  {
   "cell_type": "markdown",
   "metadata": {},
   "source": [
    "# Exercise 3"
   ]
  },
  {
   "cell_type": "code",
   "execution_count": 31,
   "metadata": {},
   "outputs": [
    {
     "name": "stdout",
     "output_type": "stream",
     "text": [
      "I am a teacher, &and& I lo#ve teaching;. There is nothing; &as& more rewarding as educating &and& empowering people. ;I found teaching more interesting than any other jobs. Does this motivate you to be a teacher!?\n",
      "[(3, 'I'), (2, 'and'), (2, 'teaching'), (2, 'teacher'), (2, 'as'), (2, 'a'), (2, 'more'), (1, 'Does'), (1, 'lo'), (1, 'people'), (1, 'There'), (1, 'this'), (1, 'any'), (1, 'empowering'), (1, 'to'), (1, 'found'), (1, 'educating'), (1, 'be'), (1, 'am'), (1, 'motivate'), (1, 'than'), (1, 'jobs'), (1, 'is'), (1, 'you'), (1, 'nothing'), (1, 've'), (1, 'rewarding'), (1, 'other'), (1, 'interesting')]\n"
     ]
    }
   ],
   "source": [
    "sentence = '''%I $am@% a %tea@cher%, &and& I lo%#ve %tea@ching%;. There $is nothing; &as& mo@re rewarding as educa@ting &and& @emp%o@wering peo@ple. ;I found tea@ching m%o@re interesting tha@n any other %jo@bs. %Do@es thi%s mo@tivate yo@u to be a tea@cher!?'''\n",
    "\n",
    "def clean_text(text):\n",
    "    return re.sub('%|@|\\$', '', text)\n",
    "\n",
    "def most_frequent_words(text):\n",
    "    splitted = re.findall(r'\\w+', text)\n",
    "    return sorted(\n",
    "        [(splitted.count(word), word) for word in set(splitted)],\n",
    "        key=lambda x: x[0],\n",
    "        reverse=True,\n",
    "    )\n",
    "\n",
    "print(clean_text(sentence));\n",
    "print(most_frequent_words(clean_text(sentence)))"
   ]
  },
  {
   "cell_type": "code",
   "execution_count": null,
   "metadata": {},
   "outputs": [],
   "source": []
  }
 ],
 "metadata": {
  "kernelspec": {
   "display_name": "Python 3",
   "language": "python",
   "name": "python3"
  },
  "language_info": {
   "codemirror_mode": {
    "name": "ipython",
    "version": 3
   },
   "file_extension": ".py",
   "mimetype": "text/x-python",
   "name": "python",
   "nbconvert_exporter": "python",
   "pygments_lexer": "ipython3",
   "version": "3.11.6"
  }
 },
 "nbformat": 4,
 "nbformat_minor": 2
}
