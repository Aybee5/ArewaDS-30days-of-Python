{
 "cells": [
  {
   "cell_type": "code",
   "execution_count": 6,
   "metadata": {},
   "outputs": [
    {
     "name": "stdout",
     "output_type": "stream",
     "text": [
      "404\n",
      "Error occurred, Url resource is unavailable\n"
     ]
    }
   ],
   "source": [
    "import requests\n",
    "\n",
    "try:\n",
    "    romeo_and_juliet = requests.get(\"http://www.gutenberg.org/files/1112/1112.txt\")\n",
    "    print(romeo_and_juliet.status_code)\n",
    "    if romeo_and_juliet.status_code == 404:\n",
    "        raise Exception(\"Url resource is unavailable\")\n",
    "    frequency = {}\n",
    "    for character in romeo_and_juliet.text:\n",
    "        frequency.setdefault(character, 0)\n",
    "        frequency[character] += 1\n",
    "    print(frequency)\n",
    "except Exception as e:\n",
    "    print(f\"Error occurred, {e}\")"
   ]
  },
  {
   "cell_type": "code",
   "execution_count": 20,
   "metadata": {},
   "outputs": [
    {
     "name": "stdout",
     "output_type": "stream",
     "text": [
      "Max of upper limit of cat's weights in metric units is: 11 \n",
      "Min of upper limit of cat's weights in metric units is: 4 \n",
      "Mean of upper limit of cat's weights in metric units is: 6.1940298507462686 \n",
      "Median of upper limit of cat's weights in metric units is: 6 \n",
      "Std of upper limit of cat's weights in metric units is: 1.416769757070632 \n",
      "{'Max': 11, 'Minimum': 4, 'Mean': 6.1940298507462686, 'Median': 6, 'std': 1.416769757070632}\n",
      "Upper limit of cat weights in metric units: {'Max': 11, 'Minimum': 4, 'Mean': 6.1940298507462686, 'Median': 6, 'std': 1.416769757070632}, lower limit of cat weights in metric units: {'Max': 5, 'Minimum': 2, 'Mean': 3.2238805970149254, 'Median': 3, 'std': 0.8845628182703051},upper limit of cat lifespan in years : {'Max': 20, 'Minimum': 12, 'Mean': 15.417910447761194, 'Median': 15, 'std': 1.6343774065406076},lower limits of cat lifespan in years: {'Max': 18, 'Minimum': 8, 'Mean': 12.074626865671641, 'Median': 12, 'std': 1.8283411328456127}\n",
      "Answer to first two sub questions of question 2: {'Upper limit stats of cat weights in metric units': {'Max': 11, 'Minimum': 4, 'Mean': 6.1940298507462686, 'Median': 6, 'std': 1.416769757070632}, 'Lower limit stats of cat weights in metric units': {'Max': 5, 'Minimum': 2, 'Mean': 3.2238805970149254, 'Median': 3, 'std': 0.8845628182703051}, 'Upper limit stat of cat lifespan in years': {'Max': 20, 'Minimum': 12, 'Mean': 15.417910447761194, 'Median': 15, 'std': 1.6343774065406076}, 'Lower limit stats of cat lifespan in years': {'Max': 18, 'Minimum': 8, 'Mean': 12.074626865671641, 'Median': 12, 'std': 1.8283411328456127}}\n"
     ]
    }
   ],
   "source": [
    "cats_api = 'https://api.thecatapi.com/v1/breeds'\n",
    "\n",
    "response = requests.get(cats_api)\n",
    "\n",
    "if response.status_code == 200:\n",
    "    cat_breeds = response.json()\n",
    "else:\n",
    "    print(\"Failed to retrieve information from API\")\n",
    "\n",
    "'''getting the list of the weights of all the cats in metric units, \n",
    "has upper and lower limits'''\n",
    "cat_weight_metric = [\n",
    "    cat_breeds[i]['weight']['metric'] for i in range(len(cat_breeds))\n",
    "]\n",
    "cat_weight_metric[:5]\n",
    "\n",
    "cat_weight_lifespan = [\n",
    "    cat_breeds[i]['life_span'] for i in range(len(cat_breeds))\n",
    "]\n",
    "cat_weight_lifespan[:5]\n",
    "\n",
    "def convert_to_numbers(string):\n",
    "    start, end = map(int, string.split(\" - \"))\n",
    "    return start, end\n",
    "\n",
    "cat_weight_metric_number = list(map(convert_to_numbers,cat_weight_metric))\n",
    "lower_cat_weight_metric,upper_cat_weight_metric = [i[0] for i in cat_weight_metric_number],[i[1]for i in cat_weight_metric_number]\n",
    "\n",
    "cat_lifespan_number = list(map(convert_to_numbers,cat_weight_lifespan))\n",
    "lower_cat_lifespan,upper_cat_lifespan = [i[0] for i in cat_lifespan_number],[i[1]for i in cat_lifespan_number]\n",
    "\n",
    "import statistics as stats\n",
    "print(f'Max of upper limit of cat\\'s weights in metric units is: {max(upper_cat_weight_metric)} ')\n",
    "print(f'Min of upper limit of cat\\'s weights in metric units is: {min(upper_cat_weight_metric)} ')\n",
    "print(f'Mean of upper limit of cat\\'s weights in metric units is: {stats.mean(upper_cat_weight_metric)} ')\n",
    "print(f'Median of upper limit of cat\\'s weights in metric units is: {stats.median(upper_cat_weight_metric)} ')\n",
    "print(f'Std of upper limit of cat\\'s weights in metric units is: {stats.stdev(upper_cat_weight_metric)} ')\n",
    "\n",
    "\n",
    "def cat_stats_params(list):\n",
    "    '''\n",
    "    Takes a list and returns a dictionary of certain statistics parameters of the list\n",
    "    '''\n",
    "    import statistics as stats\n",
    "    stat = {'Max': max(list), 'Minimum': min(list), 'Mean': stats.mean(list)}\n",
    "    stat['Median'] = stats.median(list)\n",
    "    stat['std'] = stats.stdev(list)\n",
    "    return stat\n",
    "print(cat_stats_params(upper_cat_weight_metric))\n",
    "\n",
    "\n",
    "\n",
    "print(f'Upper limit of cat weights in metric units: {cat_stats_params(upper_cat_weight_metric)}, lower limit of cat weights in metric units: {cat_stats_params(lower_cat_weight_metric)},upper limit of cat lifespan in years : {cat_stats_params(upper_cat_lifespan)},lower limits of cat lifespan in years: {cat_stats_params(lower_cat_lifespan)}')\n",
    "answer_dict = {\n",
    "    'Upper limit stats of cat weights in metric units': cat_stats_params(\n",
    "        upper_cat_weight_metric\n",
    "    )\n",
    "}\n",
    "answer_dict['Lower limit stats of cat weights in metric units'] = cat_stats_params(lower_cat_weight_metric)\n",
    "answer_dict['Upper limit stat of cat lifespan in years'] = cat_stats_params(upper_cat_lifespan)\n",
    "answer_dict['Lower limit stats of cat lifespan in years'] = cat_stats_params(lower_cat_lifespan)\n",
    "print(f'Answer to first two sub questions of question 2: {answer_dict}')\n"
   ]
  }
 ],
 "metadata": {
  "kernelspec": {
   "display_name": "Python 3",
   "language": "python",
   "name": "python3"
  },
  "language_info": {
   "codemirror_mode": {
    "name": "ipython",
    "version": 3
   },
   "file_extension": ".py",
   "mimetype": "text/x-python",
   "name": "python",
   "nbconvert_exporter": "python",
   "pygments_lexer": "ipython3",
   "version": "3.11.6"
  }
 },
 "nbformat": 4,
 "nbformat_minor": 2
}
