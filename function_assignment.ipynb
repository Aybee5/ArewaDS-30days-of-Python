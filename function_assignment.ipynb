{
 "cells": [
  {
   "cell_type": "code",
   "execution_count": 2,
   "metadata": {},
   "outputs": [
    {
     "name": "stdout",
     "output_type": "stream",
     "text": [
      "I'm learning about functions in this chapter.\n",
      "One of my favorite books is Alice In Wonderland.\n"
     ]
    }
   ],
   "source": [
    "def display_message():\n",
    "    print(\"I'm learning about functions in this chapter.\")\n",
    "\n",
    "def favorite_book(title):\n",
    "    print(f\"One of my favorite books is {title.title()}.\")\n",
    "\n",
    "display_message()\n",
    "favorite_book('alice in wonderland')"
   ]
  },
  {
   "cell_type": "code",
   "execution_count": 3,
   "metadata": {},
   "outputs": [
    {
     "name": "stdout",
     "output_type": "stream",
     "text": [
      "The size of the shirt is large and the message on the shirt is I love Python!.\n",
      "The size of the shirt is large and the message on the shirt is I love Python!.\n"
     ]
    }
   ],
   "source": [
    "def make_shirt(size, message):\n",
    "    print(f\"The size of the shirt is {size} and the message on the shirt is {message}.\")\n",
    "make_shirt('large', 'I love Python!')\n",
    "make_shirt(message='I love Python!', size='large')"
   ]
  },
  {
   "cell_type": "code",
   "execution_count": 5,
   "metadata": {},
   "outputs": [
    {
     "name": "stdout",
     "output_type": "stream",
     "text": [
      "The size of the shirt is large and the message on the shirt is I love Python!.\n",
      "The size of the shirt is medium and the message on the shirt is I love Python!.\n",
      "The size of the shirt is small and the message on the shirt is I love ArewaDS!.\n",
      "Lagos is in Nigeria.\n",
      "Kano is in Nigeria.\n",
      "New York is in Usa.\n"
     ]
    }
   ],
   "source": [
    "def make_shirt(size='large', message='I love Python!'):\n",
    "    print(f\"The size of the shirt is {size} and the message on the shirt is {message}.\")\n",
    "make_shirt()\n",
    "make_shirt(size='medium')\n",
    "make_shirt(size='small', message='I love ArewaDS!')\n",
    "\n",
    "def describe_city(city, country='Nigeria'):\n",
    "    print(f\"{city.title()} is in {country.title()}.\")\n",
    "describe_city('lagos')\n",
    "describe_city('Kano')\n",
    "describe_city('new york', 'USA')\n"
   ]
  },
  {
   "cell_type": "code",
   "execution_count": 7,
   "metadata": {},
   "outputs": [
    {
     "name": "stdout",
     "output_type": "stream",
     "text": [
      "Lagos, Nigeria\n",
      "Kano, Nigeria\n",
      "New York, Usa\n",
      "{'artist': '2face', 'album': 'face2face'}\n",
      "{'artist': 'wizkid', 'album': 'superstar'}\n",
      "{'artist': 'davido', 'album': 'omo baba olowo', 'tracks': 12}\n",
      "\n",
      "Please enter the artist name and album title:\n",
      "(enter 'q' at any time to quit)\n",
      "{'artist': 'Habu', 'album': 'baunaha =bu'}\n",
      "\n",
      "Please enter the artist name and album title:\n",
      "(enter 'q' at any time to quit)\n"
     ]
    }
   ],
   "source": [
    "def city_country(city, country):\n",
    "    print(f\"{city.title()}, {country.title()}\")\n",
    "city_country('lagos', 'nigeria')\n",
    "city_country('kano', 'nigeria')\n",
    "city_country('new york', 'USA')\n",
    "\n",
    "def make_album(artist_name, album_title, number_of_tracks=None):\n",
    "    album = {'artist': artist_name, 'album': album_title}\n",
    "    if number_of_tracks:\n",
    "        album['tracks'] = number_of_tracks\n",
    "    return album\n",
    "\n",
    "album = make_album('2face', 'face2face')\n",
    "print(album)\n",
    "album = make_album('wizkid', 'superstar')\n",
    "print(album)\n",
    "album = make_album('davido', 'omo baba olowo', 12)\n",
    "print(album)\n",
    "\n",
    "while True:\n",
    "    print(\"\\nPlease enter the artist name and album title:\")\n",
    "    print(\"(enter 'q' at any time to quit)\")\n",
    "\n",
    "    artist = input(\"Artist name: \")\n",
    "    if artist == 'q':\n",
    "        break\n",
    "\n",
    "    title = input(\"Album title: \")\n",
    "    if title == 'q':\n",
    "        break\n",
    "\n",
    "    album = make_album(artist, title)\n",
    "    print(album)\n"
   ]
  },
  {
   "cell_type": "code",
   "execution_count": 8,
   "metadata": {},
   "outputs": [
    {
     "name": "stdout",
     "output_type": "stream",
     "text": [
      "hello\n",
      "how are you?\n",
      "what are you doing?\n",
      "where are you?\n",
      "hello\n",
      "how are you?\n",
      "what are you doing?\n",
      "where are you?\n",
      "Sending message: where are you?\n",
      "Sending message: what are you doing?\n",
      "Sending message: how are you?\n",
      "Sending message: hello\n",
      "\n",
      "All messages have been sent.\n",
      "[] is the messages list\n",
      "['where are you?', 'what are you doing?', 'how are you?', 'hello'] is the sent_messages list\n"
     ]
    }
   ],
   "source": [
    "short_messages = ['hello', 'how are you?', 'what are you doing?', 'where are you?']\n",
    "def show_messages(messages):\n",
    "    for message in messages:\n",
    "        print(message)\n",
    "show_messages(short_messages)\n",
    "\n",
    "def send_messages(messages):\n",
    "    sent_messages = []\n",
    "    while messages:\n",
    "        current_message = messages.pop()\n",
    "        print(f\"Sending message: {current_message}\")\n",
    "        sent_messages.append(current_message)\n",
    "    print(\"\\nAll messages have been sent.\")\n",
    "    print(f'{messages} is the messages list')\n",
    "    print(f'{sent_messages} is the sent_messages list')\n",
    "        \n",
    "show_messages(short_messages)\n",
    "\n",
    "send_messages(short_messages)\n",
    "\n"
   ]
  },
  {
   "cell_type": "code",
   "execution_count": 15,
   "metadata": {},
   "outputs": [
    {
     "name": "stdout",
     "output_type": "stream",
     "text": [
      "\n",
      "Making a sandwich with the following items:\n",
      "- cheese\n",
      "\n",
      "Making a sandwich with the following items:\n",
      "- cheese\n",
      "- ham\n",
      "\n",
      "Making a sandwich with the following items:\n",
      "- cheese\n",
      "- ham\n",
      "- lettuce\n",
      "{'location': 'Kano', 'field': 'IT', 'first_name': 'Ibrahim', 'last_name': 'Abdullahi'}\n",
      "{'color': 'blue', 'tow_package': True, 'manufacturer': 'subaru', 'model': 'outback'}\n"
     ]
    }
   ],
   "source": [
    "def make_sanwich(*items):\n",
    "    print(\"\\nMaking a sandwich with the following items:\")\n",
    "    for item in items:\n",
    "        print(f\"- {item}\")\n",
    "make_sanwich('cheese')\n",
    "make_sanwich('cheese', 'ham')\n",
    "make_sanwich('cheese', 'ham', 'lettuce')\n",
    "\n",
    "def build_profile(first, last, **user_info):\n",
    "    user_info['first_name'] = first\n",
    "    user_info['last_name'] = last\n",
    "    return user_info\n",
    "user_profile = build_profile('Ibrahim', 'Abdullahi', location='Kano', field='IT')\n",
    "print(user_profile)\n",
    "\n",
    "def car_info(manufacturer, model, **car_info):\n",
    "    car_info['manufacturer'] = manufacturer\n",
    "    car_info['model'] = model\n",
    "    return car_info\n",
    "  \n",
    "car = car_info('subaru', 'outback', color='blue', tow_package=True)\n",
    "print(car)"
   ]
  }
 ],
 "metadata": {
  "kernelspec": {
   "display_name": "Python 3",
   "language": "python",
   "name": "python3"
  },
  "language_info": {
   "codemirror_mode": {
    "name": "ipython",
    "version": 3
   },
   "file_extension": ".py",
   "mimetype": "text/x-python",
   "name": "python",
   "nbconvert_exporter": "python",
   "pygments_lexer": "ipython3",
   "version": "3.11.7"
  }
 },
 "nbformat": 4,
 "nbformat_minor": 2
}
